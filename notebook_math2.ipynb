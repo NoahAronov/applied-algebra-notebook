{
  "nbformat": 4,
  "nbformat_minor": 0,
  "metadata": {
    "colab": {
      "provenance": []
    },
    "kernelspec": {
      "name": "python3",
      "display_name": "Python 3"
    },
    "language_info": {
      "name": "python"
    }
  },
  "cells": [
    {
      "cell_type": "markdown",
      "source": [
        "# Applied Algebra"
      ],
      "metadata": {
        "id": "qAFZxQlCT_SC"
      }
    },
    {
      "cell_type": "markdown",
      "source": [
        "Library imports (run them to apply to this notebook)"
      ],
      "metadata": {
        "id": "w1vDrAx2X_tW"
      }
    },
    {
      "cell_type": "code",
      "source": [
        "import sympy\n",
        "from sympy import symbols\n",
        "from sympy.solvers import solve"
      ],
      "metadata": {
        "id": "GMJO_iFxX1X8"
      },
      "execution_count": 1,
      "outputs": []
    },
    {
      "cell_type": "markdown",
      "source": [
        "Example: Proportion (simple)"
      ],
      "metadata": {
        "id": "_zHe_wUvWfSW"
      }
    },
    {
      "cell_type": "markdown",
      "source": [
        "n1/d1 = n2/d2"
      ],
      "metadata": {
        "id": "RzwMXeBTWvc7"
      }
    },
    {
      "cell_type": "code",
      "source": [
        "# Put a zero in for the unknown value\n",
        "\n",
        "n1 = 1\n",
        "d1 = 2\n",
        "n2 = 0\n",
        "d2 = 16\n",
        "\n",
        "if n2==0:\n",
        "    answer = d2 * n1 / d1\n",
        "    print(\"n2 = \", answer)\n",
        "\n",
        "if d2==0:\n",
        "    answer = n2 * d1 / n1\n",
        "    print(\"d2 = \", answer)"
      ],
      "metadata": {
        "colab": {
          "base_uri": "https://localhost:8080/"
        },
        "id": "g3gbF3P_T9fe",
        "outputId": "411fb0d0-c928-486a-cabe-58ee94a13d5c"
      },
      "execution_count": 1,
      "outputs": [
        {
          "output_type": "stream",
          "name": "stdout",
          "text": [
            "n2 =  8.0\n"
          ]
        }
      ]
    },
    {
      "cell_type": "markdown",
      "source": [
        "Solving for x. The variable `eq` is the equation set equal to zero. This will print an array of solutions."
      ],
      "metadata": {
        "id": "RHzs5YuHYDjE"
      }
    },
    {
      "cell_type": "code",
      "source": [
        "x = symbols('x')\n",
        "\n",
        "# Put the equation here\n",
        "eq = x - 2\n",
        "\n",
        "print(\"x= \", solve(eq,x))"
      ],
      "metadata": {
        "colab": {
          "base_uri": "https://localhost:8080/"
        },
        "id": "aGE6SY9WYSZp",
        "outputId": "233acb43-5a89-4df0-d35d-aacd3d0787dc"
      },
      "execution_count": 5,
      "outputs": [
        {
          "output_type": "stream",
          "name": "stdout",
          "text": [
            "x=  [2]\n"
          ]
        }
      ]
    }
  ]
}